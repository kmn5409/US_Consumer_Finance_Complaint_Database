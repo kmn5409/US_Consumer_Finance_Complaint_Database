{
 "cells": [
  {
   "cell_type": "code",
   "execution_count": 1,
   "metadata": {},
   "outputs": [
    {
     "name": "stderr",
     "output_type": "stream",
     "text": [
      "/home/keanu/anaconda3/lib/python3.6/site-packages/h5py/__init__.py:34: FutureWarning: Conversion of the second argument of issubdtype from `float` to `np.floating` is deprecated. In future, it will be treated as `np.float64 == np.dtype(float).type`.\n",
      "  from ._conv import register_converters as _register_converters\n"
     ]
    },
    {
     "name": "stdout",
     "output_type": "stream",
     "text": [
      "Requirement already satisfied: summa in /home/keanu/anaconda3/lib/python3.6/site-packages (1.0.0)\n",
      "Requirement already satisfied: scipy>=0.19 in /home/keanu/anaconda3/lib/python3.6/site-packages (from summa) (0.19.1)\n"
     ]
    }
   ],
   "source": [
    "import pandas as pd\n",
    "import numpy as np\n",
    "import tensorflow as tf\n",
    "from sklearn.feature_extraction.text import CountVectorizer\n",
    "from sklearn.feature_extraction.text import TfidfTransformer\n",
    "import csv\n",
    "from sklearn.model_selection import cross_val_score\n",
    "from sklearn.linear_model import LogisticRegression\n",
    "from sklearn.svm import LinearSVC\n",
    "from sklearn.model_selection import train_test_split\n",
    "from sklearn.metrics import accuracy_score\n",
    "import sys\n",
    "!{sys.executable} -m pip install summa\n",
    "from summa import keywords\n",
    "from summa import summarizer"
   ]
  },
  {
   "cell_type": "code",
   "execution_count": 2,
   "metadata": {},
   "outputs": [
    {
     "name": "stdout",
     "output_type": "stream",
     "text": [
      "(555957, 2)\n",
      "(66806, 2)\n"
     ]
    }
   ],
   "source": [
    "complaints = pd.read_csv(\"us-consumer-finance-complaint-database/\\\n",
    "consumer_complaints.csv\",usecols=[1,5],\\\n",
    "                         dtype={'consumer_complaint_narrative': object})\n",
    "print(complaints.shape)\n",
    "complaints.dropna(inplace=True)\n",
    "complaints = complaints.reset_index(drop=True)\n",
    "print(complaints.shape)"
   ]
  },
  {
   "cell_type": "code",
   "execution_count": 3,
   "metadata": {},
   "outputs": [
    {
     "data": {
      "text/html": [
       "<div>\n",
       "<style scoped>\n",
       "    .dataframe tbody tr th:only-of-type {\n",
       "        vertical-align: middle;\n",
       "    }\n",
       "\n",
       "    .dataframe tbody tr th {\n",
       "        vertical-align: top;\n",
       "    }\n",
       "\n",
       "    .dataframe thead th {\n",
       "        text-align: right;\n",
       "    }\n",
       "</style>\n",
       "<table border=\"1\" class=\"dataframe\">\n",
       "  <thead>\n",
       "    <tr style=\"text-align: right;\">\n",
       "      <th></th>\n",
       "      <th>product</th>\n",
       "      <th>consumer_complaint_narrative</th>\n",
       "    </tr>\n",
       "  </thead>\n",
       "  <tbody>\n",
       "    <tr>\n",
       "      <th>0</th>\n",
       "      <td>Debt collection</td>\n",
       "      <td>XXXX has claimed I owe them {$27.00} for XXXX ...</td>\n",
       "    </tr>\n",
       "    <tr>\n",
       "      <th>1</th>\n",
       "      <td>Consumer Loan</td>\n",
       "      <td>Due to inconsistencies in the amount owed that...</td>\n",
       "    </tr>\n",
       "    <tr>\n",
       "      <th>2</th>\n",
       "      <td>Mortgage</td>\n",
       "      <td>In XX/XX/XXXX my wages that I earned at my job...</td>\n",
       "    </tr>\n",
       "    <tr>\n",
       "      <th>3</th>\n",
       "      <td>Mortgage</td>\n",
       "      <td>I have an open and current mortgage with Chase...</td>\n",
       "    </tr>\n",
       "    <tr>\n",
       "      <th>4</th>\n",
       "      <td>Mortgage</td>\n",
       "      <td>XXXX was submitted XX/XX/XXXX. At the time I s...</td>\n",
       "    </tr>\n",
       "  </tbody>\n",
       "</table>\n",
       "</div>"
      ],
      "text/plain": [
       "           product                       consumer_complaint_narrative\n",
       "0  Debt collection  XXXX has claimed I owe them {$27.00} for XXXX ...\n",
       "1    Consumer Loan  Due to inconsistencies in the amount owed that...\n",
       "2         Mortgage  In XX/XX/XXXX my wages that I earned at my job...\n",
       "3         Mortgage  I have an open and current mortgage with Chase...\n",
       "4         Mortgage  XXXX was submitted XX/XX/XXXX. At the time I s..."
      ]
     },
     "execution_count": 3,
     "metadata": {},
     "output_type": "execute_result"
    }
   ],
   "source": [
    "complaints.head()"
   ]
  },
  {
   "cell_type": "code",
   "execution_count": 4,
   "metadata": {
    "collapsed": true
   },
   "outputs": [],
   "source": [
    "from collections import Counter\n",
    "counts = Counter(complaints['product'])\n",
    "# Counter({'Debt collection': 17552, 'Mortgage': 14919, 'Credit reporting': 12526, 'Credit card': 7929, 'Bank account or service': 5711, 'Consumer Loan': 3678, 'Student loan': 2128, 'Prepaid card': 861, 'Payday loan': 726, 'Money transfers': 666, 'Other financial service': 110})"
   ]
  },
  {
   "cell_type": "code",
   "execution_count": 5,
   "metadata": {},
   "outputs": [
    {
     "name": "stdout",
     "output_type": "stream",
     "text": [
      "Had 4 phone calls in one day to my cell phone about debt collecting. \n",
      "They are asking to talk to a XXXX XXXX ... ... Not me ... .Never heard of him. They got the wrong number! I keep explaining to them you got the wrong number and they get very rude! \n",
      "\n",
      "________________________________________\n",
      "My sister provided Hyundai Motor Finance my phone # while hers was not working. I received a call from their XXXX number and when advised my sister was not available and asked who was calling. Female declined to identify herself or her company. I advised that the cell phone being called belongs to me and they no longer have my permission to dial my number manually or via their automated dialer. Female then hung up on me. My sister took care of the past due payment ( was just an oversight ) and we assumed everything was good. payment rec by HMF on XXXX/XXXX/15. On XXXX/XXXX/15 I recevied another call from HMF. I had my sister call back and they advised her account current and no record of call. Advised could furnish proof of call and requested again that they no longer call me.Rep said nothing he can do. Sister requested supervisor who told her the only way they would guarantee no calls to my phone is if she revokes her permission for ANY phone contact. My sister said she still wants to be contacted, just not at my phone number. Supervisor said nothing he can do. Also said that there were no automated calls out and that the only way she would have been dialed after she revoked permission, would be a manual dial. I called back in and advised that it is my cell and I revoke authorization, that they absolutely were not to manually/auto call my number any further. Ultimately they were calling out to an unauthorized party about a current account ... manually. Intentional harrassment. I received another call today from the XXXX number and a 28 second long dead air voicemail. Sister called back in and of course they had no record of call and were unhelpful again. I called back in, they said i had to get in touch with consumer affair department and because I 'm not a customer, just an innocent third party that they are harrassing that I would have to communicate with them via mail. Finally agreed to send me over via phone so solution could be expedited, but they kept just transferring me back to customer service. Eventually male rep told me that there was nothing I could do about the phone calls. \n",
      "\n",
      "________________________________________\n",
      "This item claimed by Action Collections on behalf of Benchmark Apartments from XX/XX/XXXX in the amount of {$2100.00} ( originally was {$1200.00} until I filed a dispute then was increased as of XX/XX/XXXX to {$2100.00} ) is inaccurate because the Benchmark Apartments charged me for inaccurate charges, falsified an important document and then immediately sent me to Action Collections with intentions of receiving illegitimate payment, whilst destroying my credit. This has went on for 7 years and has prevented me from having perfect credit with this one exception to my credit report. I worked with the XXXX as a mediator between myself and the XXXX as well spoke with Attorney General in XXXX, Id whom both agreed this collection was incredulous and a mistake. The XXXX were willing to bring amount owed to {$300.00} through XXXX, however Action Collections still had the collection and were completely unwilling to work with me. Action Collections shredded all the documents I submitted one which was an original move in/out document, which Benchmark falsified and I tried informing Action Collections they forced my signature and I had the original document, they asked me to send in all my receipts and that document. I made copies of everything but submitted in hopes they would see that XXXX never had intentions of performing a move out walk through to verify I had cleaned the apartment and previous damage to apartment before I moved in. XXXX went and had their own cleaning crew come in and then sent me an invoice for cleaning charges, inaccurate rent amount and miscellaneous charges that were never agreed to in contract. I had receipts to show I had cleaned the apartment in hopes of getting my deposit returned and they never met me after moving out. They immediately sent me to collections when I questioned the invoice that was sent. I am requesting the item be removed completely and as soon as possible from my credit report because it is affecting my life negatively. Enclosed are the following attachments ( exhibits ) : ( Exhibit XXXX ) copies of receipts from cleaning services I paid for per my rental contract when moving out the XXXX apartments. I made several attempts to check out with a manager by calling and going down to office but was never returned any phone calls. Finally, I was called back by someone in their office only to obtain my address and was informed that the apartment had been rented. In addition was notified the apartment had been rented. This was important because under the condition I have professional cleaning services done, have proper walk out to show they were done and provide receipts, if the apartment rented prior to end of month I would not be responsible for the {$650.00} rent and I would receive my deposit back of {$300.00}. Instead of my deposit I received a lengthy itemized invoice for inaccurate charges and charging me rent, which was not the correct rent amount in the agreement, ( Exhibit XXXX ). The rent amount in invoice was inaccurate from rental contract ( Exhibit XXXX ). There were also charges for professional services I had already had paid for to have cleaned. I demanded to know why these charges were invoiced to me but never heard back from anyone and then after two months of no answer and or hanging up on me, I received a notice from Action Collections that I was to pay them and my account was turned over to them. I pleaded with Action Collections as well contacted XXXX because I felt I was handled wrongly and never had a chance to hear from Benchmark ( Exhibits XXXX, XXXX, XXXX ). In addition, XXXX XXXX sent a falsified move-in sheet ( Exhibit XXXX ) with my name at top and the signing manager at bot \n",
      "\n",
      "________________________________________\n"
     ]
    }
   ],
   "source": [
    "for complaint in complaints[complaints['product'] == 'Debt collection'].consumer_complaint_narrative.sample(3, random_state=1):\n",
    "    print(complaint)\n",
    "    print('________________________________________')"
   ]
  },
  {
   "cell_type": "code",
   "execution_count": 6,
   "metadata": {},
   "outputs": [
    {
     "name": "stdout",
     "output_type": "stream",
     "text": [
      "['Debt collection', 'Consumer Loan', 'Mortgage', 'Credit card', 'Credit reporting', 'Student loan', 'Bank account or service', 'Payday loan', 'Money transfers', 'Other financial service', 'Prepaid card']\n",
      "           product                       consumer_complaint_narrative\n",
      "0  Debt collection  XXXX has claimed I owe them {$27.00} for XXXX ...\n",
      "1    Consumer Loan  Due to inconsistencies in the amount owed that...\n",
      "2         Mortgage  In XX/XX/XXXX my wages that I earned at my job...\n",
      "3         Mortgage  I have an open and current mortgage with Chase...\n",
      "4         Mortgage  XXXX was submitted XX/XX/XXXX. At the time I s...\n",
      "           product                       consumer_complaint_narrative  \\\n",
      "0  Debt collection  XXXX has claimed I owe them {$27.00} for XXXX ...   \n",
      "1    Consumer Loan  Due to inconsistencies in the amount owed that...   \n",
      "2         Mortgage  In XX/XX/XXXX my wages that I earned at my job...   \n",
      "3         Mortgage  I have an open and current mortgage with Chase...   \n",
      "4         Mortgage  XXXX was submitted XX/XX/XXXX. At the time I s...   \n",
      "\n",
      "   product_num  \n",
      "0          0.0  \n",
      "1          1.0  \n",
      "2          2.0  \n",
      "3          2.0  \n",
      "4          2.0  \n"
     ]
    }
   ],
   "source": [
    "labels = complaints['product'].unique().tolist()\n",
    "train = complaints.copy()\n",
    "print(labels)\n",
    "print(train.head())\n",
    "#train = train.reset_index(drop=True)\n",
    "for i in range(len(train)):\n",
    "    train.loc[i,'product_num'] = labels.index(train.loc[i,'product'])\n",
    "y = train['product_num'].copy()\n",
    "print(train.head())\n",
    "train = train.drop(['product_num','product'],1)"
   ]
  },
  {
   "cell_type": "code",
   "execution_count": 7,
   "metadata": {},
   "outputs": [
    {
     "data": {
      "text/html": [
       "<div>\n",
       "<style scoped>\n",
       "    .dataframe tbody tr th:only-of-type {\n",
       "        vertical-align: middle;\n",
       "    }\n",
       "\n",
       "    .dataframe tbody tr th {\n",
       "        vertical-align: top;\n",
       "    }\n",
       "\n",
       "    .dataframe thead th {\n",
       "        text-align: right;\n",
       "    }\n",
       "</style>\n",
       "<table border=\"1\" class=\"dataframe\">\n",
       "  <thead>\n",
       "    <tr style=\"text-align: right;\">\n",
       "      <th></th>\n",
       "      <th>consumer_complaint_narrative</th>\n",
       "    </tr>\n",
       "  </thead>\n",
       "  <tbody>\n",
       "    <tr>\n",
       "      <th>0</th>\n",
       "      <td>XXXX has claimed I owe them {$27.00} for XXXX ...</td>\n",
       "    </tr>\n",
       "    <tr>\n",
       "      <th>1</th>\n",
       "      <td>Due to inconsistencies in the amount owed that...</td>\n",
       "    </tr>\n",
       "    <tr>\n",
       "      <th>2</th>\n",
       "      <td>In XX/XX/XXXX my wages that I earned at my job...</td>\n",
       "    </tr>\n",
       "    <tr>\n",
       "      <th>3</th>\n",
       "      <td>I have an open and current mortgage with Chase...</td>\n",
       "    </tr>\n",
       "    <tr>\n",
       "      <th>4</th>\n",
       "      <td>XXXX was submitted XX/XX/XXXX. At the time I s...</td>\n",
       "    </tr>\n",
       "  </tbody>\n",
       "</table>\n",
       "</div>"
      ],
      "text/plain": [
       "                        consumer_complaint_narrative\n",
       "0  XXXX has claimed I owe them {$27.00} for XXXX ...\n",
       "1  Due to inconsistencies in the amount owed that...\n",
       "2  In XX/XX/XXXX my wages that I earned at my job...\n",
       "3  I have an open and current mortgage with Chase...\n",
       "4  XXXX was submitted XX/XX/XXXX. At the time I s..."
      ]
     },
     "execution_count": 7,
     "metadata": {},
     "output_type": "execute_result"
    }
   ],
   "source": [
    "train.head()"
   ]
  },
  {
   "cell_type": "code",
   "execution_count": 8,
   "metadata": {},
   "outputs": [
    {
     "data": {
      "text/plain": [
       "0    0.0\n",
       "1    1.0\n",
       "2    2.0\n",
       "3    2.0\n",
       "4    2.0\n",
       "Name: product_num, dtype: float64"
      ]
     },
     "execution_count": 8,
     "metadata": {},
     "output_type": "execute_result"
    }
   ],
   "source": [
    "y.head()"
   ]
  },
  {
   "cell_type": "code",
   "execution_count": 9,
   "metadata": {
    "collapsed": true
   },
   "outputs": [],
   "source": [
    "from sklearn.model_selection import train_test_split\n",
    "X_train,X_test,y_train,y_test = train_test_split(train,y, test_size=0.4)\n",
    "#X_train = X_train.reset_index(drop=True)\n",
    "#y_train = y_train.reset_index(drop=True)"
   ]
  },
  {
   "cell_type": "code",
   "execution_count": 10,
   "metadata": {},
   "outputs": [
    {
     "data": {
      "text/html": [
       "<div>\n",
       "<style scoped>\n",
       "    .dataframe tbody tr th:only-of-type {\n",
       "        vertical-align: middle;\n",
       "    }\n",
       "\n",
       "    .dataframe tbody tr th {\n",
       "        vertical-align: top;\n",
       "    }\n",
       "\n",
       "    .dataframe thead th {\n",
       "        text-align: right;\n",
       "    }\n",
       "</style>\n",
       "<table border=\"1\" class=\"dataframe\">\n",
       "  <thead>\n",
       "    <tr style=\"text-align: right;\">\n",
       "      <th></th>\n",
       "      <th>consumer_complaint_narrative</th>\n",
       "    </tr>\n",
       "  </thead>\n",
       "  <tbody>\n",
       "    <tr>\n",
       "      <th>36678</th>\n",
       "      <td>I applied over the phone for a mortgage with B...</td>\n",
       "    </tr>\n",
       "    <tr>\n",
       "      <th>20113</th>\n",
       "      <td>1. I obtained loan of {$15000.00} on Credit Ca...</td>\n",
       "    </tr>\n",
       "    <tr>\n",
       "      <th>52799</th>\n",
       "      <td>XXXX XXXX XXXX XXXX XXXX XXXX XXXX VA XXXX SS ...</td>\n",
       "    </tr>\n",
       "    <tr>\n",
       "      <th>49657</th>\n",
       "      <td>XXXX UniversityXXXX XXXXI was a University stu...</td>\n",
       "    </tr>\n",
       "    <tr>\n",
       "      <th>3141</th>\n",
       "      <td>This is not a duplicate rather a corrected ver...</td>\n",
       "    </tr>\n",
       "  </tbody>\n",
       "</table>\n",
       "</div>"
      ],
      "text/plain": [
       "                            consumer_complaint_narrative\n",
       "36678  I applied over the phone for a mortgage with B...\n",
       "20113  1. I obtained loan of {$15000.00} on Credit Ca...\n",
       "52799  XXXX XXXX XXXX XXXX XXXX XXXX XXXX VA XXXX SS ...\n",
       "49657  XXXX UniversityXXXX XXXXI was a University stu...\n",
       "3141   This is not a duplicate rather a corrected ver..."
      ]
     },
     "execution_count": 10,
     "metadata": {},
     "output_type": "execute_result"
    }
   ],
   "source": [
    "X_train.head()"
   ]
  },
  {
   "cell_type": "code",
   "execution_count": 11,
   "metadata": {},
   "outputs": [
    {
     "data": {
      "text/plain": [
       "36678    2.0\n",
       "20113    3.0\n",
       "52799    4.0\n",
       "49657    5.0\n",
       "3141     2.0\n",
       "Name: product_num, dtype: float64"
      ]
     },
     "execution_count": 11,
     "metadata": {},
     "output_type": "execute_result"
    }
   ],
   "source": [
    "y_train.head()"
   ]
  },
  {
   "cell_type": "code",
   "execution_count": 12,
   "metadata": {
    "collapsed": true
   },
   "outputs": [],
   "source": [
    "categories = y_train.unique()\n",
    "\n",
    "count_vector = CountVectorizer()\n",
    "X_train_count = count_vector.fit_transform(X_train['consumer_complaint_narrative'])\n",
    "\n",
    "X_train_count.shape\n",
    "\n",
    "count_vector.vocabulary_.get(u'movie')\n",
    "\n",
    "tf_transformer = TfidfTransformer(use_idf=False).fit(X_train_count)\n",
    "\n",
    "X_train_tf = tf_transformer.transform(X_train_count)\n",
    "tfidf_transformer = TfidfTransformer()\n",
    "X_train_tfidf = tfidf_transformer.fit_transform(X_train_count)"
   ]
  },
  {
   "cell_type": "markdown",
   "metadata": {},
   "source": [
    "# Linear Support Vector Classification"
   ]
  },
  {
   "cell_type": "code",
   "execution_count": 13,
   "metadata": {
    "collapsed": true
   },
   "outputs": [],
   "source": [
    "lsvc = LinearSVC().fit(X_train_count,y_train)"
   ]
  },
  {
   "cell_type": "code",
   "execution_count": 14,
   "metadata": {
    "collapsed": true
   },
   "outputs": [],
   "source": [
    "X_test_count = count_vector.transform(X_test['consumer_complaint_narrative'])\n",
    "X_test_tfidf = tfidf_transformer.transform(X_test_count)\n",
    "ans = lsvc.predict(X_test_tfidf)"
   ]
  },
  {
   "cell_type": "code",
   "execution_count": 15,
   "metadata": {},
   "outputs": [
    {
     "data": {
      "text/plain": [
       "0.5602290162032706"
      ]
     },
     "execution_count": 15,
     "metadata": {},
     "output_type": "execute_result"
    }
   ],
   "source": [
    "accuracy_score(y_test,ans)"
   ]
  },
  {
   "cell_type": "markdown",
   "metadata": {},
   "source": [
    "# Summarizing the text"
   ]
  },
  {
   "cell_type": "code",
   "execution_count": 16,
   "metadata": {},
   "outputs": [
    {
     "name": "stdout",
     "output_type": "stream",
     "text": [
      "XXXX was submitted XX/XX/XXXX. At the time I submitted this complaint, I had dealt with Rushmore Mortgage directly endeavoring to get them to stop the continuous daily calls I was receiving trying to collect on a mortgage for which I was not responsible due to bankruptcy. They denied having knowledge of the bankruptcy, even though I had spoken with them about it repeatedly and had written them repeatedly referencing the bankruptcy requesting them to cease the pursuit, they continued to do so. When they were unable to trick me into paying, force me into paying in retaliation they placed reported to my credit bureaus a past due mortgage amount that had been discharged in Federal Court. On XX/XX/XXXX Rushmore responded the referenced complaint indicating that they would remove the reporting from my bureau, yet it is still there now in XX/XX/XXXX. I would like them to remove it immediately and send me a letter indicating that it should not have been there in the first place and they are going to remove it from all my bureaus. Rushmore, when speaking to me, represented themselves as the new note holder, but when CFPB was involved, they identified themselves as the servicing agency for XXXX XXXX XXXX. This credit bullying and racial discrimination practices is damaging to anyone who is exposed to these tactics and this needs to stop. Them denying their intent and then walking away with no penalties of any kind is one of the reasons it continues. Please assist me in procuring the resolution once and for all. \n",
      "\n",
      "\n",
      "\n",
      "Summary:\n",
      "\n",
      "\n",
      "At the time I submitted this complaint, I had dealt with Rushmore Mortgage directly endeavoring to get them to stop the continuous daily calls I was receiving trying to collect on a mortgage for which I was not responsible due to bankruptcy.\n",
      "On XX/XX/XXXX Rushmore responded the referenced complaint indicating that they would remove the reporting from my bureau, yet it is still there now in XX/XX/XXXX.\n"
     ]
    }
   ],
   "source": [
    "print((complaints['consumer_complaint_narrative'][4]))\n",
    "print(\"\\n\\nSummary:\\n\\n\")\n",
    "\n",
    "print(summarizer.\\\n",
    "      summarize((complaints['consumer_complaint_narrative'][4])))"
   ]
  }
 ],
 "metadata": {
  "kernelspec": {
   "display_name": "Python 3",
   "language": "python",
   "name": "python3"
  },
  "language_info": {
   "codemirror_mode": {
    "name": "ipython",
    "version": 3
   },
   "file_extension": ".py",
   "mimetype": "text/x-python",
   "name": "python",
   "nbconvert_exporter": "python",
   "pygments_lexer": "ipython3",
   "version": "3.6.3"
  }
 },
 "nbformat": 4,
 "nbformat_minor": 2
}
